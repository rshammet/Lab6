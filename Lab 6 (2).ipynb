{
 "cells": [
  {
   "cell_type": "markdown",
   "metadata": {},
   "source": [
    "# Lab 6: Illumina MiSeq"
   ]
  },
  {
   "cell_type": "markdown",
   "metadata": {},
   "source": [
    "## Terminal Input: human genome\n",
    "\n",
    "bowtie2 -p 8 --very-fast --no-unal -x /data/references/hg19/hg19 -1 /data/Lab6_data/mixed_reads1.fastq -2 /data/Lab6_data/mixed_reads2.fastq -S output.sam --un-conc unaligned.fastq"
   ]
  },
  {
   "cell_type": "markdown",
   "metadata": {},
   "source": [
    "## Terminal Output: human genome\n",
    "1285441 reads; of these:\n",
    "    - 1285441 (100.00%) were paired; of these:\n",
    "    - 1285105 (99.97%) aligned concordantly 0 times\n",
    "    - 114 (0.01%) aligned concordantly exactly 1 time\n",
    "    - 222 (0.02%) aligned concordantly >1 times\n",
    "    \n",
    "    - 1285105 pairs aligned concordantly 0 times; of these:\n",
    "        - 227762 (17.72%) aligned discordantly 1 time\n",
    "\n",
    "    - 1057343 pairs aligned 0 times concordantly or discordantly; of these:\n",
    "        - 2114686 mates make up the pairs; of these:\n",
    "            - 2062758 (97.54%) aligned 0 times\n",
    "            - 15162 (0.72%) aligned exactly 1 time\n",
    "            - 36766 (1.74%) aligned >1 times\n",
    "19.76% overall alignment rate\n"
   ]
  },
  {
   "cell_type": "markdown",
   "metadata": {},
   "source": [
    "***Questions:***\n",
    "\n",
    "1. What will you use for the database? /data/references/hg19/hg19\n",
    "2. Input reads? /data/Lab6_data/\n",
    "3. If you use the --un unaligned.fastq option, what will unaligned.fastq contain? it will contain reads that were not aligned into a separate fastq file \n",
    "4. What percentage of your sequencing library came from contaminating human DNA? 19.76%\n",
    "\n"
   ]
  },
  {
   "cell_type": "markdown",
   "metadata": {},
   "source": [
    "## Terminal Input: Shewanella oneidensis Genome"
   ]
  },
  {
   "cell_type": "markdown",
   "metadata": {},
   "source": [
    " bowtie2 -p 4 --very-fast --no-unal -x /data/references/shewanella_oneidensis_mr-1/shewanella_oneidensis_mr-1 -1 unaligned.1.fastq -2 unaligned.2.fastq -S ref.sam\n"
   ]
  },
  {
   "cell_type": "markdown",
   "metadata": {},
   "source": [
    "## Terminal Output: Shewanella oneidensis Genome"
   ]
  },
  {
   "cell_type": "markdown",
   "metadata": {},
   "source": [
    "1285105 reads; of these:\n",
    "    - 1285105 (100.00%) were paired; of these:\n",
    "    - 1049640 (81.68%) aligned concordantly 0 times\n",
    "    - 220987 (17.20%) aligned concordantly exactly 1 time\n",
    "    - 14478 (1.13%) aligned concordantly >1 times\n",
    " \n",
    " \n",
    "    - 1049640 pairs aligned concordantly 0 times; of these:\n",
    "        - 288853 (27.52%) aligned discordantly 1 time\n",
    "    \n",
    "    \n",
    "    - 760787 pairs aligned 0 times concordantly or discordantly; of these:\n",
    "        - 1521574 mates make up the pairs; of these:\n",
    "            - 1245335 (81.85%) aligned 0 times\n",
    "            - 221076 (14.53%) aligned exactly 1 time\n",
    "            - 55163 (3.63%) aligned >1 times\n",
    "51.55% overall alignment rate"
   ]
  },
  {
   "cell_type": "markdown",
   "metadata": {},
   "source": [
    "***Questions:***\n",
    "1. If you use the --un unaligned.fastq option, what will unaligned.fastq contain? it will contain reads that were not aligned into a separate fastq file \n",
    "2. What percentage of your filtered library didn’t align to the reference genome? 51.55%\n",
    "3. If you use --very-sensitive instead of --very-fast, does this percentage increase or decrease? decrease"
   ]
  },
  {
   "cell_type": "markdown",
   "metadata": {},
   "source": [
    "***Questions:***\n",
    "1. How many reads map to humans? 1285441\n",
    "2. How many map to S. oneidensis? 1285105\n",
    "3. Do the reads cover the S. oneidensis genome uniformly? no"
   ]
  },
  {
   "cell_type": "markdown",
   "metadata": {},
   "source": [
    "## Scatter Plot and Histogram:"
   ]
  },
  {
   "cell_type": "markdown",
   "metadata": {},
   "source": [
    "***Terminal Command to convert ref.sam to ref.bam:***\n",
    "\n",
    "samtools view -b ref.sam > ref.bam\n",
    "\n",
    "***Sort ref.bam then index it***\n",
    "\n",
    "samtools sort ref.bam > ref.sorted.bam\n",
    "samtools index ref.sorted.bam\n",
    "\n",
    "***Create the depth file for the plots***\n",
    "samtools depth -a ref.sorted.bam > ref_depth.tab"
   ]
  },
  {
   "cell_type": "code",
   "execution_count": 8,
   "metadata": {},
   "outputs": [],
   "source": [
    "import matplotlib.pyplot as plt\n",
    "import numpy as np\n",
    "\n",
    "countnm = []\n",
    "depthv = []\n",
    "\n",
    "depth = open(\"ref_depth.tab\")\n",
    "for sample in depth:\n",
    "    splitted = sample.strip().split('\\t')\n",
    "    countnm.append(int(splitted[1]))\n",
    "    depthv.append(int(splitted[2]))"
   ]
  },
  {
   "cell_type": "code",
   "execution_count": 7,
   "metadata": {},
   "outputs": [],
   "source": [
    "maxl = max(depthv)\n",
    "minl = min(depthv)\n",
    "meanl = np.mean(depthv)"
   ]
  },
  {
   "cell_type": "markdown",
   "metadata": {},
   "source": [
    "***Questions:***\n",
    "1. What is the min, max, and mean coverage across all positions? \n",
    "    - min:1\n",
    "    - max: 472\n",
    "    - mean~ 70.0102751"
   ]
  },
  {
   "cell_type": "code",
   "execution_count": 12,
   "metadata": {},
   "outputs": [
    {
     "data": {
      "image/png": "[encoded data removed]",
      "text/plain": [
       "<Figure size 432x288 with 1 Axes>"
      ]
     },
     "metadata": {
      "needs_background": "light"
     },
     "output_type": "display_data"
    },
    {
     "data": {
      "image/png": "[encoded data removed]",
      "text/plain": [
       "<Figure size 432x288 with 1 Axes>"
      ]
     },
     "metadata": {
      "needs_background": "light"
     },
     "output_type": "display_data"
    }
   ],
   "source": [
    "plt.plot(position_num, depth_value)\n",
    "plt.xlabel(\"Position in Genome\")\n",
    "plt.ylabel(\"Depth of Coverage\")\n",
    "plt.show()\n",
    "plt.hist(depth_value, bins = 50)\n",
    "plt.xlabel(\"Depth of Coverage\")\n",
    "plt.ylabel(\"Count\")\n",
    "plt.show()"
   ]
  }
 ],
 "metadata": {
  "kernelspec": {
   "display_name": "Python 3",
   "language": "python",
   "name": "python3"
  },
  "language_info": {
   "codemirror_mode": {
    "name": "ipython",
    "version": 3
   },
   "file_extension": ".py",
   "mimetype": "text/x-python",
   "name": "python",
   "nbconvert_exporter": "python",
   "pygments_lexer": "ipython3",
   "version": "3.7.3"
  }
 },
 "nbformat": 4,
 "nbformat_minor": 2
}
